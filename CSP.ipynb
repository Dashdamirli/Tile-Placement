{
 "cells": [
  {
   "cell_type": "markdown",
   "metadata": {
    "id": "VrJVlRv8qyzb"
   },
   "source": [
    "# CSP"
   ]
  },
  {
   "cell_type": "code",
   "execution_count": 1,
   "metadata": {
    "id": "vcfNGV4pqyzb"
   },
   "outputs": [],
   "source": [
    "import re\n",
    "import numpy as np\n",
    "import time"
   ]
  },
  {
   "cell_type": "code",
   "execution_count": 2,
   "metadata": {
    "id": "WFzGm-1Jqyzc"
   },
   "outputs": [],
   "source": [
    "with open('input.txt','r') as f:\n",
    "    b = f.readlines()"
   ]
  },
  {
   "cell_type": "code",
   "execution_count": 3,
   "metadata": {
    "id": "aMjKNx_nqyzc"
   },
   "outputs": [],
   "source": [
    "b = b[2:]"
   ]
  },
  {
   "cell_type": "markdown",
   "metadata": {
    "id": "khrY8fNYqyzd"
   },
   "source": [
    "## Array"
   ]
  },
  {
   "cell_type": "code",
   "execution_count": 4,
   "metadata": {
    "id": "7Y0geVD3qyzd"
   },
   "outputs": [],
   "source": [
    "# returns the line number where matrix ends\n",
    "\n",
    "def string_matrix_index(text):\n",
    "    for i,row in enumerate(text):\n",
    "        if  row[0]=='#':\n",
    "            return i-1"
   ]
  },
  {
   "cell_type": "code",
   "execution_count": 5,
   "metadata": {
    "id": "xZeIfI8Rqyze"
   },
   "outputs": [],
   "source": [
    "matrix_idx = string_matrix_index(b)"
   ]
  },
  {
   "cell_type": "code",
   "execution_count": 6,
   "metadata": {
    "id": "xGM5CGuHqyze"
   },
   "outputs": [],
   "source": [
    "string_matrix = b[0:matrix_idx]"
   ]
  },
  {
   "cell_type": "code",
   "execution_count": 7,
   "metadata": {
    "colab": {
     "base_uri": "https://localhost:8080/",
     "height": 53
    },
    "id": "mvcd-YP7qyzf",
    "outputId": "c74f409b-5691-4b41-8ea9-a6c2bfd08718"
   },
   "outputs": [],
   "source": [
    "# more comprehensive but slower version of below one-liner\n",
    "\n",
    "# def get_matrix(s):\n",
    "#     res = []\n",
    "#     for k in s:\n",
    "#         b1 = [int(x) if x.isdigit() else 0 if i%2==0 else -1 for i,x in enumerate(k)]\n",
    "#         bint = [i for i in b1 if i!=-1]\n",
    "#         res.append(bint)\n",
    "#     return np.array(res)"
   ]
  },
  {
   "cell_type": "code",
   "execution_count": 8,
   "metadata": {
    "id": "4fV0GMsSqyzg"
   },
   "outputs": [],
   "source": [
    "# get matrix\n",
    "arr = [[i for i in [int(x) if x.isdigit() else 0 if i%2==0 else -1 for i,x in enumerate(k)] if i!=-1] for k in string_matrix]"
   ]
  },
  {
   "cell_type": "code",
   "execution_count": 9,
   "metadata": {
    "id": "0uTcdkSPqyzh"
   },
   "outputs": [],
   "source": [
    "arr = np.array(arr)[:,:-1]"
   ]
  },
  {
   "cell_type": "code",
   "execution_count": 10,
   "metadata": {
    "colab": {
     "base_uri": "https://localhost:8080/"
    },
    "id": "AXoVQOcoqyzh",
    "outputId": "d0e064c3-50b8-4e66-e775-43186c3cc27a"
   },
   "outputs": [
    {
     "data": {
      "text/plain": [
       "array([[4, 4, 4, 2, 0, 1, 4, 4, 3, 0, 3, 0, 0, 0, 4, 2, 4, 3, 4, 0],\n",
       "       [1, 3, 2, 1, 2, 4, 4, 0, 1, 3, 4, 2, 2, 4, 3, 1, 2, 2, 1, 2],\n",
       "       [4, 3, 0, 1, 4, 1, 0, 3, 3, 3, 2, 0, 0, 4, 2, 4, 0, 0, 4, 2],\n",
       "       [1, 1, 0, 1, 4, 3, 4, 4, 0, 2, 4, 1, 2, 0, 4, 2, 2, 3, 4, 4],\n",
       "       [2, 0, 0, 2, 4, 2, 4, 4, 1, 0, 4, 1, 3, 0, 3, 2, 0, 0, 0, 4],\n",
       "       [0, 3, 1, 1, 4, 4, 1, 3, 0, 4, 0, 3, 0, 4, 1, 4, 1, 1, 3, 3],\n",
       "       [3, 4, 4, 1, 2, 0, 0, 0, 0, 2, 1, 1, 3, 1, 1, 1, 4, 1, 0, 2],\n",
       "       [0, 4, 3, 4, 0, 3, 0, 0, 1, 0, 4, 4, 0, 4, 0, 4, 4, 4, 0, 0],\n",
       "       [1, 3, 3, 2, 1, 2, 3, 0, 4, 3, 2, 4, 0, 2, 3, 4, 4, 4, 4, 4],\n",
       "       [2, 2, 0, 2, 1, 3, 1, 3, 4, 1, 1, 0, 2, 2, 3, 0, 2, 2, 1, 0],\n",
       "       [0, 2, 1, 2, 3, 1, 0, 3, 4, 4, 0, 0, 2, 3, 3, 2, 1, 2, 1, 2],\n",
       "       [2, 2, 1, 1, 3, 0, 0, 4, 0, 1, 1, 2, 0, 2, 1, 1, 0, 1, 2, 3],\n",
       "       [2, 2, 0, 1, 0, 3, 4, 1, 2, 3, 4, 0, 0, 2, 1, 4, 4, 1, 1, 1],\n",
       "       [4, 1, 1, 3, 4, 3, 0, 4, 1, 0, 4, 0, 4, 2, 3, 2, 2, 2, 0, 0],\n",
       "       [0, 4, 4, 0, 2, 4, 1, 2, 1, 0, 0, 2, 0, 3, 1, 2, 4, 4, 3, 4],\n",
       "       [3, 1, 0, 3, 3, 2, 0, 3, 2, 1, 3, 3, 4, 4, 0, 4, 2, 4, 4, 3],\n",
       "       [2, 4, 1, 4, 0, 0, 0, 3, 0, 4, 2, 3, 4, 2, 2, 1, 1, 3, 4, 0],\n",
       "       [2, 4, 4, 0, 3, 0, 2, 3, 3, 0, 1, 3, 0, 4, 1, 3, 1, 4, 4, 4],\n",
       "       [1, 4, 1, 4, 0, 1, 0, 4, 0, 1, 3, 3, 3, 3, 1, 2, 1, 1, 0, 1],\n",
       "       [4, 0, 0, 4, 1, 0, 1, 3, 1, 4, 2, 4, 0, 0, 2, 2, 3, 2, 0, 2]])"
      ]
     },
     "execution_count": 10,
     "metadata": {},
     "output_type": "execute_result"
    }
   ],
   "source": [
    "arr "
   ]
  },
  {
   "cell_type": "markdown",
   "metadata": {
    "id": "_rj8cjOtqyzi"
   },
   "source": [
    "## Targets"
   ]
  },
  {
   "cell_type": "code",
   "execution_count": 11,
   "metadata": {
    "id": "sUbsDnFmqyzi"
   },
   "outputs": [],
   "source": [
    "targets = b[matrix_idx+5:matrix_idx+9]"
   ]
  },
  {
   "cell_type": "code",
   "execution_count": 12,
   "metadata": {
    "id": "Wh_DFTA0qyzi"
   },
   "outputs": [],
   "source": [
    "targets = [int(target.strip()[2:]) for target in targets ]"
   ]
  },
  {
   "cell_type": "code",
   "execution_count": 13,
   "metadata": {
    "colab": {
     "base_uri": "https://localhost:8080/"
    },
    "id": "kbgR7FkHqyzj",
    "outputId": "86b7bf4d-c158-48d1-c035-d79503dc7082"
   },
   "outputs": [
    {
     "data": {
      "text/plain": [
       "[27, 22, 15, 35]"
      ]
     },
     "execution_count": 13,
     "metadata": {},
     "output_type": "execute_result"
    }
   ],
   "source": [
    "targets"
   ]
  },
  {
   "cell_type": "markdown",
   "metadata": {
    "id": "6xXehvwpqyzj"
   },
   "source": [
    "## Tiles"
   ]
  },
  {
   "cell_type": "code",
   "execution_count": 14,
   "metadata": {
    "id": "adPOvs7wqyzk"
   },
   "outputs": [],
   "source": [
    "tiles = b[matrix_idx+2:matrix_idx+3][0].strip()"
   ]
  },
  {
   "cell_type": "code",
   "execution_count": 15,
   "metadata": {
    "id": "vMy0NCUNqyzk"
   },
   "outputs": [],
   "source": [
    "shapes = {}"
   ]
  },
  {
   "cell_type": "code",
   "execution_count": 16,
   "metadata": {
    "id": "IMb3oHjQqyzk"
   },
   "outputs": [],
   "source": [
    "shapes['OUTER'] = int(re.split(',|}',re.compile(\"OUTER_BOUNDARY=\").split(tiles)[1])[0])"
   ]
  },
  {
   "cell_type": "code",
   "execution_count": 17,
   "metadata": {
    "id": "eSjKCE5cqyzl"
   },
   "outputs": [],
   "source": [
    "shapes['L'] = int(re.split(',|}',re.compile(\"EL_SHAPE=\").split(tiles)[1])[0])"
   ]
  },
  {
   "cell_type": "code",
   "execution_count": 18,
   "metadata": {
    "id": "g7s8T-Pgqyzl"
   },
   "outputs": [],
   "source": [
    "shapes['FULL'] = int(re.split(',|}',re.compile(\"FULL_BLOCK=\").split(tiles)[1])[0])"
   ]
  },
  {
   "cell_type": "code",
   "execution_count": 19,
   "metadata": {
    "colab": {
     "base_uri": "https://localhost:8080/"
    },
    "id": "JR8I2L85qyzl",
    "outputId": "2059e32d-2f89-43c3-8844-9a64f8b20e5f"
   },
   "outputs": [
    {
     "data": {
      "text/plain": [
       "{'OUTER': 6, 'L': 11, 'FULL': 8}"
      ]
     },
     "execution_count": 19,
     "metadata": {},
     "output_type": "execute_result"
    }
   ],
   "source": [
    "shapes"
   ]
  },
  {
   "cell_type": "markdown",
   "metadata": {
    "id": "MWN_1uIIqyzm"
   },
   "source": [
    "## Count "
   ]
  },
  {
   "cell_type": "code",
   "execution_count": 20,
   "metadata": {
    "id": "1sXHCmfsqyzm"
   },
   "outputs": [],
   "source": [
    "# returns count of visible bushes in 4x4 area after certain tile is placed \n",
    "\n",
    "def calc_bush(arr,tile):\n",
    "    if tile=='OUTER':\n",
    "        return dict(zip(*np.unique(arr[1:3,1:3], return_counts=True)))\n",
    "    if tile=='L':\n",
    "        return dict(zip(*np.unique(arr[1:,1:], return_counts=True)))\n",
    "    return {1:0,2:0,3:0,4:0}"
   ]
  },
  {
   "cell_type": "code",
   "execution_count": 21,
   "metadata": {
    "id": "1HIhBKYFqyzq"
   },
   "outputs": [],
   "source": [
    "# initializes states\n",
    "\n",
    "def fill_states(n):\n",
    "    domain = {}\n",
    "    variables = {}\n",
    "    for row in range(n):\n",
    "        for col in range(n):\n",
    "            domain[(row,col)] = ['OUTER','L','FULL']\n",
    "            variables[(row,col)] = 0\n",
    "    return domain,variables"
   ]
  },
  {
   "cell_type": "code",
   "execution_count": 22,
   "metadata": {
    "id": "D8vcp061qyzr"
   },
   "outputs": [],
   "source": [
    "# adds bush count in 4x4 area to overall bush count\n",
    "\n",
    "def add_bush(state,d):\n",
    "    count_dict = calc_bush(arr[4*state[0]:4*state[0]+4,4*state[1]:4*state[1]+4],d)\n",
    "    for item in count_dict.items():\n",
    "        if item[0]!=0:\n",
    "            bushes[item[0]-1]+=item[1] "
   ]
  },
  {
   "cell_type": "code",
   "execution_count": 23,
   "metadata": {
    "id": "OtdCQv5xqyzr"
   },
   "outputs": [],
   "source": [
    "# removes bush count in 4x4 area from overall bush count\n",
    "\n",
    "def remove_bush(state,d):\n",
    "    count_dict = calc_bush(arr[4*state[0]:4*state[0]+4,4*state[1]:4*state[1]+4],d)\n",
    "    for item in count_dict.items():\n",
    "        if item[0]!=0:\n",
    "            bushes[item[0]-1]-=item[1] "
   ]
  },
  {
   "cell_type": "code",
   "execution_count": 24,
   "metadata": {
    "id": "f52_yHpXqyzs"
   },
   "outputs": [],
   "source": [
    "# checks if the constraints are satisfied\n",
    "\n",
    "def check_constraints(state,d,tile_count):\n",
    "    add_bush(state,d)    \n",
    "    for i in range(4):\n",
    "        if bushes[i]>targets[i]:\n",
    "            remove_bush(state,d)\n",
    "            return False\n",
    "    if tile_count[d]+1>shapes[d]:\n",
    "            remove_bush(state,d)\n",
    "            return False\n",
    "    return True"
   ]
  },
  {
   "cell_type": "code",
   "execution_count": 25,
   "metadata": {},
   "outputs": [],
   "source": [
    "# calculate number of non-zero values for every square\n",
    "# will help choosing the next square to put a tile on\n",
    "\n",
    "def calc_number_count(n):\n",
    "    variables = {}\n",
    "    for row in range(n):\n",
    "        for col in range(n):\n",
    "            variables[(row,col)] = np.count_nonzero(arr[4*row:4*row+4,4*col:4*col+4]) \n",
    "    return variables"
   ]
  },
  {
   "cell_type": "code",
   "execution_count": 26,
   "metadata": {
    "id": "3NhuVzXgqyzr"
   },
   "outputs": [],
   "source": [
    "# the first method used to get next state (not used in current version)\n",
    "\n",
    "def check_full():\n",
    "    for state in states:\n",
    "        if states[state]==0:\n",
    "            return state\n",
    "    return (-1,-1)"
   ]
  },
  {
   "cell_type": "code",
   "execution_count": 27,
   "metadata": {},
   "outputs": [],
   "source": [
    "# gets next state based on mrv\n",
    "\n",
    "def get_next_state():\n",
    "    for state in square_order:\n",
    "        if states[state]==0:\n",
    "            return state\n",
    "    return (-1,-1)"
   ]
  },
  {
   "cell_type": "code",
   "execution_count": 32,
   "metadata": {
    "colab": {
     "base_uri": "https://localhost:8080/"
    },
    "id": "IV7tstJ5qyzs",
    "outputId": "c08ab9b9-c08f-4d40-b303-fe9eb4c1afbb",
    "scrolled": true
   },
   "outputs": [
    {
     "name": "stdout",
     "output_type": "stream",
     "text": [
      "Elasped Time: 1.78 seconds \n",
      "\n"
     ]
    }
   ],
   "source": [
    "bushes = [0,0,0,0]\n",
    "tile_count = {'OUTER':0,'L':0,'FULL':0}\n",
    "domain,states = fill_states(len(arr)//4)\n",
    "num_count = calc_number_count(len(arr)//4)\n",
    "\n",
    "# sorting squares based on non-zero number count in descending order\n",
    "square_order = [k for k,v in sorted(num_count.items(),reverse = True, key=lambda x: x[1])]\n",
    "\n",
    "def search(verbose=False):\n",
    "    \n",
    "    # gets the next state to be checked\n",
    "    state = get_next_state()\n",
    "    \n",
    "    # if we have reached the goal return\n",
    "    if bushes == targets and tile_count==shapes:\n",
    "        return True\n",
    "    \n",
    "    # check possible tiles and add them if they satisfy the constraint\n",
    "    for d in ['OUTER', 'L', 'FULL']:\n",
    "        if check_constraints(state,d,tile_count):\n",
    "            states[state] = d\n",
    "            tile_count[states[state]]+=1\n",
    "            if verbose==True:\n",
    "                print('state: ',state,' value: ',states[state],' tile count: ',tile_count, ' bushes: ',bushes)\n",
    "            if search():\n",
    "                return True\n",
    "            \n",
    "            # remove current tile to backtrack\n",
    "            remove_bush(state,states[state])\n",
    "            tile_count[states[state]]-=1\n",
    "            states[state] = 0\n",
    "            \n",
    "\n",
    "    return False\n",
    "\n",
    "dblStart = time.perf_counter()\n",
    "search()\n",
    "intTime = \"%.2f\" % ((time.perf_counter() - dblStart)) \n",
    "print(\"Elasped Time: \" + str(intTime) + \" seconds\", \"\\n\")"
   ]
  },
  {
   "cell_type": "code",
   "execution_count": 29,
   "metadata": {},
   "outputs": [
    {
     "data": {
      "text/plain": [
       "['OUTER',\n",
       " 'OUTER',\n",
       " 'L',\n",
       " 'L',\n",
       " 'OUTER',\n",
       " 'L',\n",
       " 'FULL',\n",
       " 'L',\n",
       " 'L',\n",
       " 'L',\n",
       " 'OUTER',\n",
       " 'FULL',\n",
       " 'L',\n",
       " 'FULL',\n",
       " 'OUTER',\n",
       " 'FULL',\n",
       " 'L',\n",
       " 'FULL',\n",
       " 'L',\n",
       " 'OUTER',\n",
       " 'L',\n",
       " 'FULL',\n",
       " 'FULL',\n",
       " 'FULL',\n",
       " 'L']"
      ]
     },
     "execution_count": 29,
     "metadata": {},
     "output_type": "execute_result"
    }
   ],
   "source": [
    "[states[state] for state in states]"
   ]
  }
 ],
 "metadata": {
  "colab": {
   "name": "csp (1).ipynb",
   "provenance": []
  },
  "kernelspec": {
   "display_name": "Python 3 (ipykernel)",
   "language": "python",
   "name": "python3"
  },
  "language_info": {
   "codemirror_mode": {
    "name": "ipython",
    "version": 3
   },
   "file_extension": ".py",
   "mimetype": "text/x-python",
   "name": "python",
   "nbconvert_exporter": "python",
   "pygments_lexer": "ipython3",
   "version": "3.10.1"
  }
 },
 "nbformat": 4,
 "nbformat_minor": 1
}
